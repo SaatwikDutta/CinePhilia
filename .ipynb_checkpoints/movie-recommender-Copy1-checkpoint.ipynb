{
 "cells": [
  {
   "cell_type": "code",
   "execution_count": 1,
   "id": "ec93c012",
   "metadata": {},
   "outputs": [],
   "source": [
    "import pandas as pd\n",
    "import numpy as np\n",
    "import nltk\n",
    "import os\n",
    "from ast import literal_eval\n",
    "import string\n",
    "import re\n",
    "from sklearn.feature_extraction.text import CountVectorizer\n",
    "from nltk.corpus import stopwords\n",
    "from nltk.tokenize import word_tokenize\n",
    "from nltk.stem import WordNetLemmatizer\n",
    "from sklearn.feature_extraction.text import TfidfVectorizer\n",
    "from sklearn.metrics.pairwise import cosine_similarity"
   ]
  },
  {
   "cell_type": "code",
   "execution_count": 2,
   "id": "430bfe62",
   "metadata": {},
   "outputs": [],
   "source": [
    "os.getcwd()"
   ]
  },
  {
   "cell_type": "code",
   "execution_count": 3,
   "id": "7f39777a",
   "metadata": {},
   "outputs": [],
   "source": [
    "os.chdir('F:\\\\ML projects\\\\MOVIE-RECEOMMENDATION\\\\data')"
   ]
  },
  {
   "cell_type": "code",
   "execution_count": 4,
   "id": "918901cc",
   "metadata": {},
   "outputs": [],
   "source": [
    "movies=pd.read_csv('tmdb_5000_movies.csv')\n",
    "credits=pd.read_csv('tmdb_5000_credits.csv')"
   ]
  },
  {
   "cell_type": "code",
   "execution_count": 5,
   "id": "611339ee",
   "metadata": {},
   "outputs": [],
   "source": [
    "movies.head()"
   ]
  },
  {
   "cell_type": "code",
   "execution_count": 6,
   "id": "2f9fea03",
   "metadata": {},
   "outputs": [],
   "source": [
    "movies.columns"
   ]
  },
  {
   "cell_type": "markdown",
   "id": "41c0aaea",
   "metadata": {},
   "source": [
    "# step1: getting the dataset ready"
   ]
  },
  {
   "cell_type": "markdown",
   "id": "b548b95a",
   "metadata": {},
   "source": [
    "features that we might actually need!\n",
    "\n",
    "genres, id, keywords, overview, production_companies, title"
   ]
  },
  {
   "cell_type": "code",
   "execution_count": 7,
   "id": "7a49ed7b",
   "metadata": {},
   "outputs": [],
   "source": [
    "data=movies[['id','title', 'genres', 'overview', 'keywords']]"
   ]
  },
  {
   "cell_type": "code",
   "execution_count": 8,
   "id": "ead36dc5",
   "metadata": {},
   "outputs": [],
   "source": [
    "data=data.merge(credits, on='title')\n",
    "data.drop(['movie_id'], axis=1, inplace=True)\n",
    "data.head()"
   ]
  },
  {
   "cell_type": "markdown",
   "id": "bfc8ea6c",
   "metadata": {},
   "source": [
    "# step2: preprocessing\n"
   ]
  },
  {
   "cell_type": "markdown",
   "id": "2c0fa478",
   "metadata": {},
   "source": [
    "our goal is to combine all these features ('genres', 'overview', 'keywords', 'production_companies') into a single column \n",
    "\n",
    "and these cols ('genres',  'keywords', 'production_companies') are in a weird format, list of dics inside a string"
   ]
  },
  {
   "cell_type": "code",
   "execution_count": 9,
   "id": "a64cc61a",
   "metadata": {},
   "outputs": [],
   "source": [
    "data.genres[0]"
   ]
  },
  {
   "cell_type": "code",
   "execution_count": 10,
   "id": "7a9390b3",
   "metadata": {},
   "outputs": [],
   "source": [
    "def get_genre(text):\n",
    "    L=[]\n",
    "    for i in literal_eval(text):\n",
    "        L.append(i['name'])\n",
    "    return L\n",
    "\n",
    "data.genres=data.genres.apply(get_genre)"
   ]
  },
  {
   "cell_type": "code",
   "execution_count": 11,
   "id": "049d2667",
   "metadata": {},
   "outputs": [],
   "source": [
    "data.head(2)"
   ]
  },
  {
   "cell_type": "code",
   "execution_count": 12,
   "id": "cff9427d",
   "metadata": {},
   "outputs": [],
   "source": [
    "def get_keywords(text):\n",
    "    L=[]\n",
    "    for i in literal_eval(text):\n",
    "        L.append(i['name'])\n",
    "    return L\n",
    "\n",
    "data.keywords=data.keywords.apply(get_keywords)\n",
    "\n",
    "data.head(1)"
   ]
  },
  {
   "cell_type": "code",
   "execution_count": 13,
   "id": "6164190b",
   "metadata": {},
   "outputs": [],
   "source": [
    "# here we will only take top 3 actors/actresses\n",
    "\n",
    "def get_cast(text):\n",
    "    L=[]\n",
    "    c=0\n",
    "    for i in literal_eval(text):\n",
    "        if c!=3:\n",
    "            L.append(i['name'])\n",
    "            c+=1\n",
    "        else:\n",
    "            break\n",
    "    return L\n",
    "\n",
    "data.cast=data.cast.apply(get_cast)"
   ]
  },
  {
   "cell_type": "code",
   "execution_count": 14,
   "id": "6f905be8",
   "metadata": {},
   "outputs": [],
   "source": [
    "data.head()"
   ]
  },
  {
   "cell_type": "code",
   "execution_count": null,
   "id": "baebc1e7",
   "metadata": {},
   "outputs": [],
   "source": [
    "# with crew, we are only accepting directors name\n",
    "def get_crew(text):\n",
    "    L=[]\n",
    "    for i in literal_eval(text):\n",
    "        if i['job']=='Director':\n",
    "            L.append(i['name'])\n",
    "    return L\n",
    "\n",
    "data.crew=data.crew.apply(get_crew)"
   ]
  },
  {
   "cell_type": "code",
   "execution_count": null,
   "id": "529926d4",
   "metadata": {},
   "outputs": [],
   "source": [
    "data.head()"
   ]
  },
  {
   "cell_type": "code",
   "execution_count": null,
   "id": "5cf58343",
   "metadata": {},
   "outputs": [],
   "source": [
    "data=data.dropna(how='any')"
   ]
  },
  {
   "cell_type": "code",
   "execution_count": null,
   "id": "24a5eb8a",
   "metadata": {},
   "outputs": [],
   "source": [
    "data['overview']=data['overview'].apply(lambda x:x.split())"
   ]
  },
  {
   "cell_type": "code",
   "execution_count": null,
   "id": "aee1cbf0",
   "metadata": {},
   "outputs": [],
   "source": [
    "data.head()"
   ]
  },
  {
   "cell_type": "code",
   "execution_count": null,
   "id": "30ac0ce9",
   "metadata": {},
   "outputs": [],
   "source": [
    "data['genres']=data['genres'].apply(lambda x: [i.replace(\" \", '') for i in x])\n",
    "data['keywords']=data['keywords'].apply(lambda x: [i.replace(\" \", '') for i in x])\n",
    "data['cast']=data['cast'].apply(lambda x: [i.replace(\" \", '') for i in x])\n",
    "data['crew']=data['crew'].apply(lambda x: [i.replace(\" \", '') for i in x])"
   ]
  },
  {
   "cell_type": "code",
   "execution_count": null,
   "id": "06bdc825",
   "metadata": {},
   "outputs": [],
   "source": [
    "data.head()"
   ]
  },
  {
   "cell_type": "code",
   "execution_count": null,
   "id": "596006d0",
   "metadata": {},
   "outputs": [],
   "source": [
    "data['summary']=data['genres'] + data['overview'] + data['keywords'] + data['cast'] + data['crew']"
   ]
  },
  {
   "cell_type": "code",
   "execution_count": null,
   "id": "fa05aba5",
   "metadata": {},
   "outputs": [],
   "source": [
    "data['genres']=data['genres'].apply(lambda x: ' '.join(x))"
   ]
  },
  {
   "cell_type": "code",
   "execution_count": null,
   "id": "37dfdc4b",
   "metadata": {},
   "outputs": [],
   "source": [
    "data.head()"
   ]
  },
  {
   "cell_type": "code",
   "execution_count": null,
   "id": "75cfd602",
   "metadata": {},
   "outputs": [],
   "source": [
    "df=data"
   ]
  },
  {
   "cell_type": "code",
   "execution_count": null,
   "id": "f05a31a7",
   "metadata": {},
   "outputs": [],
   "source": [
    "df.columns"
   ]
  },
  {
   "cell_type": "code",
   "execution_count": null,
   "id": "fb915fd7",
   "metadata": {},
   "outputs": [],
   "source": [
    "df.drop(['genres', 'overview', 'keywords', 'cast', 'crew'], axis=1, inplace=True)"
   ]
  },
  {
   "cell_type": "code",
   "execution_count": null,
   "id": "f3ae2c1f",
   "metadata": {},
   "outputs": [],
   "source": [
    "df['summary']=df['summary'].apply(lambda x: ' '.join(x))"
   ]
  },
  {
   "cell_type": "code",
   "execution_count": null,
   "id": "c747a8d3",
   "metadata": {},
   "outputs": [],
   "source": [
    "df.head()"
   ]
  },
  {
   "cell_type": "code",
   "execution_count": null,
   "id": "c0b9df61",
   "metadata": {},
   "outputs": [],
   "source": [
    "df.summary[1]"
   ]
  },
  {
   "cell_type": "markdown",
   "id": "474013b5",
   "metadata": {},
   "source": [
    "now we have to:\n",
    "1. lower the text\n",
    "2. remove punctuations\n",
    "3. remove stopwords"
   ]
  },
  {
   "cell_type": "code",
   "execution_count": null,
   "id": "ff60970c",
   "metadata": {},
   "outputs": [],
   "source": [
    "df['summary']=df['summary'].apply(lambda x: x.lower()) # lowering the summary"
   ]
  },
  {
   "cell_type": "code",
   "execution_count": null,
   "id": "b933cf76",
   "metadata": {},
   "outputs": [],
   "source": [
    "# df['summary']=df['summary'].apply(lambda x: re.sub(r'[^\\w\\s]', '', x)) # removing the punctuations"
   ]
  },
  {
   "cell_type": "code",
   "execution_count": null,
   "id": "cb801c45",
   "metadata": {},
   "outputs": [],
   "source": [
    "\n",
    "def convert(text): # removing the stopwords\n",
    "    string=''\n",
    "    words=word_tokenize(text)\n",
    "    filtered_words=[word for word in words if word.lower() not in stopwords.words('english')]\n",
    "    clean_text=' '.join(filtered_words)\n",
    "    return clean_text\n",
    "df['summary']=df['summary'].apply(convert)"
   ]
  },
  {
   "cell_type": "code",
   "execution_count": null,
   "id": "5bbaa325",
   "metadata": {},
   "outputs": [],
   "source": [
    "# lemmatization \n",
    "\n",
    "lemma=WordNetLemmatizer() \n",
    "\n",
    "def lemmatization(text):\n",
    "    words=word_tokenize(text)\n",
    "    lemmatized_string = ' '.join([lemma.lemmatize(word) for word in words])\n",
    "    return lemmatized_string\n",
    "\n",
    "df['summary']=df['summary'].apply(lemmatization)"
   ]
  },
  {
   "cell_type": "code",
   "execution_count": null,
   "id": "b3606485",
   "metadata": {},
   "outputs": [],
   "source": [
    "df.head()"
   ]
  },
  {
   "cell_type": "code",
   "execution_count": null,
   "id": "48246d3f",
   "metadata": {},
   "outputs": [],
   "source": [
    "df.summary[1]"
   ]
  },
  {
   "cell_type": "markdown",
   "id": "7301af60",
   "metadata": {},
   "source": [
    "# step3: text vectorization\n",
    "1. Usinng tf-idf"
   ]
  },
  {
   "cell_type": "code",
   "execution_count": null,
   "id": "07e12879",
   "metadata": {},
   "outputs": [],
   "source": [
    "TF_IDFvectorizer = TfidfVectorizer(max_features=7000, norm='l2', ngram_range=(2, 2), use_idf=True)\n",
    "vectors = TF_IDFvectorizer.fit_transform(df.summary).toarray()"
   ]
  },
  {
   "cell_type": "code",
   "execution_count": null,
   "id": "d295f1f0",
   "metadata": {},
   "outputs": [],
   "source": [
    "vectors.shape"
   ]
  },
  {
   "cell_type": "code",
   "execution_count": null,
   "id": "5133085a",
   "metadata": {},
   "outputs": [],
   "source": [
    "vectors[0]"
   ]
  },
  {
   "cell_type": "code",
   "execution_count": null,
   "id": "3ff0792c",
   "metadata": {},
   "outputs": [],
   "source": [
    "TF_IDFvectorizer.get_feature_names_out()"
   ]
  },
  {
   "cell_type": "code",
   "execution_count": null,
   "id": "598b3039",
   "metadata": {},
   "outputs": [],
   "source": [
    "similarity=cosine_similarity(vectors)"
   ]
  },
  {
   "cell_type": "code",
   "execution_count": null,
   "id": "490fc9b7",
   "metadata": {},
   "outputs": [],
   "source": [
    "similarity[1]"
   ]
  },
  {
   "cell_type": "markdown",
   "id": "911fcf7f",
   "metadata": {},
   "source": [
    "# step4: building the recommendation function"
   ]
  },
  {
   "cell_type": "code",
   "execution_count": null,
   "id": "14f56130",
   "metadata": {},
   "outputs": [],
   "source": [
    "def recommend(text):\n",
    "    text=text.lower()\n",
    "    index=df[df['title']==text].index[0]\n",
    "    distances=similarity[index]\n",
    "    movie_list=sorted(list(enumerate(distances)), reverse=True, key=lambda x: x[1])[1:6]\n",
    "    \n",
    "    for i in movie_list:\n",
    "        print(df.iloc[i[0]].title)"
   ]
  },
  {
   "cell_type": "code",
   "execution_count": null,
   "id": "bdec0e9f",
   "metadata": {},
   "outputs": [],
   "source": [
    "recommend('The Dark Knight Rises')"
   ]
  },
  {
   "cell_type": "markdown",
   "id": "f58d84c8",
   "metadata": {},
   "source": [
    "2. using word2vec"
   ]
  },
  {
   "cell_type": "code",
   "execution_count": null,
   "id": "e5afb189",
   "metadata": {},
   "outputs": [],
   "source": []
  }
 ],
 "metadata": {
  "kernelspec": {
   "display_name": "Python 3 (ipykernel)",
   "language": "python",
   "name": "python3"
  },
  "language_info": {
   "codemirror_mode": {
    "name": "ipython",
    "version": 3
   },
   "file_extension": ".py",
   "mimetype": "text/x-python",
   "name": "python",
   "nbconvert_exporter": "python",
   "pygments_lexer": "ipython3",
   "version": "3.10.4"
  }
 },
 "nbformat": 4,
 "nbformat_minor": 5
}
